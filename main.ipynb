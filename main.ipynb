{
 "cells": [
  {
   "cell_type": "code",
   "execution_count": null,
   "metadata": {},
   "outputs": [],
   "source": [
    "class RolesCache:\n",
    "    def __init__(self, capacity):\n",
    "        # Initialize the cache with a given capacity.\n",
    "        self.role = ''  # Stores the latest role invoked.\n",
    "        self.message = ''  # Stores the message of the latest role invoked.\n",
    "        self.capacity = capacity  # Maximum number of roles an individual can have.\n",
    "        self.acvtive_roles = {}  # Dictionary to hold active roles and their corresponding messages.\n",
    "        self.num_of_avitve_roles = len(self.acvtive_roles)  # Current number of active roles (initially 0).\n",
    "\n",
    "    def get(self, role):\n",
    "        \"\"\"\n",
    "        Returns the message corresponding to the last invocation of that role.\n",
    "        If the role does not exist in the cache, returns None.\n",
    "        \"\"\"\n",
    "        if role in self.acvtive_roles:\n",
    "            return self.acvtive_roles[role]  # Return the message if the role exists.\n",
    "        else:\n",
    "            return None  # Return None if the role is not found.\n",
    "\n",
    "    def set(self, role, message):\n",
    "        \"\"\"\n",
    "        Adds the role and its corresponding message to the cache.\n",
    "        If the role already exists, only the message is updated.\n",
    "        Otherwise, the oldest role is removed to make space.\n",
    "        \"\"\"\n",
    "        self.role = role  # Update the latest role invoked.\n",
    "        self.message = message  # Update the message for the latest role.\n",
    "\n",
    "        # Check if the current number of active roles is less than the capacity.\n",
    "        if self.num_of_avitve_roles < self.capacity:\n",
    "            self.acvtive_roles[self.role] = self.message  # Add the new role and message to the cache.\n",
    "            self.num_of_avitve_roles = len(self.acvtive_roles)  # Update the count of active roles.\n",
    "\n",
    "        else:\n",
    "            # If at capacity, remove the oldest role.\n",
    "            first_key = next(iter(self.acvtive_roles))  # Get the first key (oldest role) in the dictionary.\n",
    "            del self.acvtive_roles[first_key]  # Remove the oldest role from the cache.\n",
    "            self.acvtive_roles[self.role] = self.message  # Add the new role and message to the cache.\n",
    "            self.num_of_avitve_roles = len(self.acvtive_roles)  # Update the count of active roles.\n",
    "\n",
    "    def _complexity(self):\n",
    "        \"\"\"\n",
    "        Returns the time and space complexity of the get and set operations.\n",
    "        \"\"\"\n",
    "        return {\n",
    "            'get': 'O(1)',  # Time complexity for getting a role's message is constant.\n",
    "            'set': 'O(1)',  # Time complexity for setting a role's message is constant.\n",
    "            'space': 'O(n)'  # Space complexity grows linearly with the number of active roles (up to capacity).\n",
    "        }"
   ]
  },
  {
   "cell_type": "markdown",
   "metadata": {},
   "source": [
    "### Time Complexity Of `get()`\n",
    "\n",
    "1. **Checking if `role` is in `self.active_roles`:** \n",
    "   - This operation has a time complexity of **O(1)** (constant time) because dictionary lookups in Python are implemented as hash tables.\n",
    "\n",
    "2. **Returning `self.active_roles[role]`:** \n",
    "   - If the key exists, retrieving the value also has a time complexity of **O(1)**.\n",
    "\n",
    "3. **Returning `None`:** \n",
    "   - This is a simple return statement with a time complexity of **O(1)**.\n",
    "\n",
    "#### Overall Time Complexity\n",
    "\n",
    "The overall time complexity of the `get()` snippet is **O(1)**, or constant time, because both the key check and value retrieval (if the key exists) are constant time operations."
   ]
  },
  {
   "cell_type": "markdown",
   "metadata": {},
   "source": [
    "### Time Complexity Of The `set()` Method:\n",
    "\n",
    "1. **Setting `self.role` and `self.message`:**\n",
    "   - These assignments are constant time operations, **O(1)**.\n",
    "\n",
    "2. **Checking if `self.num_of_active_roles < self.capacity`:**\n",
    "   - This comparison is also a constant time operation, **O(1)**.\n",
    "\n",
    "3. **Adding to the dictionary (`self.active_roles[self.role] = self.message`):**\n",
    "   - Inserting or updating a key-value pair in a dictionary is an average **O(1)** operation.\n",
    "\n",
    "4. **Updating `self.num_of_active_roles`:**\n",
    "   - The assignment is a constant time operation, **O(1)**.\n",
    "\n",
    "5. **If the dictionary is at capacity:**\n",
    "   - **Getting the first key:** `first_key = next(iter(self.active_roles))` retrieves the first key in constant time, **O(1)**.\n",
    "   - **Deleting the first key:** `del self.active_roles[first_key]` removes the key-value pair, which is also **O(1)**.\n",
    "   - **Adding the new role:** `self.active_roles[self.role] = self.message` is again **O(1)**.\n",
    "   - **Updating `self.num_of_active_roles`:** This is **O(1)** as well.\n",
    "\n",
    "#### Overall Time Complexity\n",
    "\n",
    "The overall time complexity of the `set()` method is **O(1)**, or constant time. Each operation involved—assignments, condition checks, dictionary operations—is performed in constant time, regardless of the number of roles stored in the dictionary."
   ]
  },
  {
   "cell_type": "markdown",
   "metadata": {},
   "source": [
    "### Space Complexity Of The `RolesCache` class:\n",
    "\n",
    "1. **Attributes:**\n",
    "   - `self.role`: This is a string that stores the latest role invoked. Its space complexity is **O(1)** as it holds a single value regardless of the number of roles.\n",
    "   - `self.message`: This is also a string that stores the message corresponding to the latest role. Its space complexity is **O(1)** for the same reason.\n",
    "   - `self.capacity`: This is an integer that defines the maximum number of roles. Its space complexity is **O(1)**.\n",
    "   - `self.acvtive_roles`: This is a dictionary that stores the active roles and their messages. The space complexity of this dictionary is **O(n)**, where **n** is the number of roles currently stored in it (up to the defined capacity).\n",
    "   - `self.num_of_avitve_roles`: This integer tracks the number of active roles and has a space complexity of **O(1)**.\n",
    "\n",
    "#### Overall Space Complexity\n",
    "\n",
    "The overall space complexity of the `RolesCache` class can be summarized as follows:\n",
    "\n",
    "- **Space Complexity**: **O(n)**, where **n** is the number of active roles in the `self.acvtive_roles` dictionary. This is because the dictionary's size can grow up to the specified capacity, which is the only component that scales with the input."
   ]
  },
  {
   "cell_type": "markdown",
   "metadata": {},
   "source": [
    "### Summary of the `_complexity` Method\n",
    "\n",
    "```python\n",
    "def _complexity(self):\n",
    "    return {\n",
    "        'get': 'O(1)',\n",
    "        'set': 'O(1)',\n",
    "        'space': 'O(n)'  # where n is the number of active roles\n",
    "    }\n",
    "```\n",
    "\n",
    "This indicates that both the `get` and `set` operations are constant time, while the space used by the cache grows linearly with the number of active roles."
   ]
  }
 ],
 "metadata": {
  "kernelspec": {
   "display_name": "Python 3",
   "language": "python",
   "name": "python3"
  },
  "language_info": {
   "codemirror_mode": {
    "name": "ipython",
    "version": 3
   },
   "file_extension": ".py",
   "mimetype": "text/x-python",
   "name": "python",
   "nbconvert_exporter": "python",
   "pygments_lexer": "ipython3",
   "version": "3.12.2"
  }
 },
 "nbformat": 4,
 "nbformat_minor": 2
}
